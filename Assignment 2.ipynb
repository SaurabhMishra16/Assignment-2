{
 "cells": [
  {
   "cell_type": "markdown",
   "id": "1e2b04e2-4b72-4626-915d-0a963042e8df",
   "metadata": {},
   "source": [
    "Q1. How do you comment code in Python? What are the different types of comments?"
   ]
  },
  {
   "cell_type": "code",
   "execution_count": 4,
   "id": "ebef85ae-974a-4db0-bc74-201fd38db6a9",
   "metadata": {},
   "outputs": [
    {
     "data": {
      "text/plain": [
       "50"
      ]
     },
     "execution_count": 4,
     "metadata": {},
     "output_type": "execute_result"
    }
   ],
   "source": [
    "# Adding two number\n",
    "20+30"
   ]
  },
  {
   "cell_type": "code",
   "execution_count": 5,
   "id": "6e718f0c-16cb-4793-89c9-aa6d1cc7b36a",
   "metadata": {},
   "outputs": [
    {
     "data": {
      "text/plain": [
       "50"
      ]
     },
     "execution_count": 5,
     "metadata": {},
     "output_type": "execute_result"
    }
   ],
   "source": [
    "\"\"\"\n",
    "This is my Second Assignment\n",
    "And I Am Enjoying Coding with Sudhanshu sir\n",
    "\"\"\"\n",
    "\n",
    "20 + 30"
   ]
  },
  {
   "cell_type": "raw",
   "id": "898fa898-c3c5-4d9f-98be-69e17f4425c8",
   "metadata": {},
   "source": [
    "There are Two types of Comments \n",
    "# - Single line comments \n",
    "or \n",
    "\"\"\"  \"\"\" - Multiple line comments"
   ]
  },
  {
   "cell_type": "markdown",
   "id": "eb9645e9-9a45-4932-9099-fffab5fcdc62",
   "metadata": {},
   "source": [
    "Q2. What are variables in Python? How do you declare and assign values to variables?"
   ]
  },
  {
   "cell_type": "raw",
   "id": "72fb74ca-53a5-432c-b70d-142bf0c4e964",
   "metadata": {},
   "source": [
    "A python variable is a symbolic name that is a refrence or pointer to an object\n",
    "There are 4 types of Variable in python\n",
    "1- int\n",
    "2- float\n",
    "3- str\n",
    "6- bool\n",
    "\n",
    "Declaration of Variable:-\n",
    "Name_of_Variable = Value (Variable name is only accepted '_','A to Z', 'a to z')\n",
    "\n",
    "Assign values to variable:-\n",
    "1. name = 'Saurabh' ( Self Defined Value )\n",
    "2. name = input()( Take input from users)"
   ]
  },
  {
   "cell_type": "markdown",
   "id": "772f0f74-e6d9-4a25-81ec-159310733048",
   "metadata": {},
   "source": [
    "Q3. How do you convert one data type to another in Python?"
   ]
  },
  {
   "cell_type": "code",
   "execution_count": 8,
   "id": "b9548e02-4ff1-4c5a-b743-88e27c3197cc",
   "metadata": {},
   "outputs": [
    {
     "name": "stdout",
     "output_type": "stream",
     "text": [
      "<class 'int'>\n",
      "<class 'str'>\n"
     ]
    }
   ],
   "source": [
    "# 10 is integer value\n",
    "Value = 10 \n",
    "print(type(Value))\n",
    "      \n",
    "# after typecasting its become string\n",
    "Value1 = str(Value)\n",
    "print(type(Value1))"
   ]
  },
  {
   "cell_type": "markdown",
   "id": "eaa86b08-f131-4ea1-b814-0d3498ca0c82",
   "metadata": {},
   "source": [
    "Q4.How do you write and execute a Python script from the command line?"
   ]
  },
  {
   "cell_type": "raw",
   "id": "89b4b274-ff84-4773-ae9d-16850e9e6bdf",
   "metadata": {},
   "source": [
    ">> x = 20\n",
    ">> y = 30\n",
    ">> if x > y:\n",
    "..    print('x is greater than y')\n",
    ".. elif x < y:\n",
    "..    print('x is lesser than y')\n",
    ".. else:\n",
    "..    print('x is equal to y')\n",
    "x is lesser than y\n",
    ">>"
   ]
  },
  {
   "cell_type": "markdown",
   "id": "170f0b56-da6c-4cbe-903c-3e531378a5a1",
   "metadata": {},
   "source": [
    "Q5. Given a list my_list = [1, 2, 3, 4, 5], write the code to slice the list and obtain the sub-list [2, 3]"
   ]
  },
  {
   "cell_type": "code",
   "execution_count": 9,
   "id": "109ee831-47c0-4b10-9b5d-6fdb189b5418",
   "metadata": {},
   "outputs": [
    {
     "name": "stdout",
     "output_type": "stream",
     "text": [
      "[2, 3]\n"
     ]
    }
   ],
   "source": [
    "my_list = [1,2,3,4,5]\n",
    "print(my_list[1:3])"
   ]
  },
  {
   "cell_type": "markdown",
   "id": "4532138e-c974-408c-bb58-025855a1b856",
   "metadata": {},
   "source": [
    "Q6. What is a complex number in mathematics, and how is it represented in Python?"
   ]
  },
  {
   "cell_type": "raw",
   "id": "c550d802-7b7e-4ebe-9e23-41f96ab07115",
   "metadata": {},
   "source": [
    "Complex numbers are the numbers that are expressed in the form of x + iy where x,y are real number and i is imaginary number\n",
    "\n",
    "represented in Python:-\n",
    " num = 5 + 4j\n",
    " where 5 is real number and 4j is imaginary number\n",
    " \n",
    " we get real and imaginary number by using this function\n",
    " 1- num.real # it gives real number\n",
    " 2- num.imag # it gives imaginary number\n"
   ]
  },
  {
   "cell_type": "markdown",
   "id": "eab6f2a7-ea52-4969-aa0f-fac0c7e9e56e",
   "metadata": {},
   "source": [
    "Q7. What is the correct way to declare a variable named age and assign the value 25 to it?"
   ]
  },
  {
   "cell_type": "code",
   "execution_count": 13,
   "id": "b4ce0b62-dcb2-4dbd-8fb2-0699ec6b2b90",
   "metadata": {},
   "outputs": [
    {
     "name": "stdin",
     "output_type": "stream",
     "text": [
      "Enter your age   :: 25\n"
     ]
    }
   ],
   "source": [
    "age = int(input(\"Enter your age   ::\"))"
   ]
  },
  {
   "cell_type": "markdown",
   "id": "b2e8e897-fcb4-4af8-a340-a59fdf8fb38f",
   "metadata": {},
   "source": [
    "Q8. Declare a variable named price and assign the value 9.99 to it. What data type does this variable\n",
    "belong to?"
   ]
  },
  {
   "cell_type": "code",
   "execution_count": 15,
   "id": "153b8d4e-cda7-4a23-bbea-88125f0716b2",
   "metadata": {},
   "outputs": [
    {
     "name": "stdout",
     "output_type": "stream",
     "text": [
      "<class 'float'>\n"
     ]
    }
   ],
   "source": [
    "price = 9.99\n",
    "print(type(price)) # float"
   ]
  },
  {
   "cell_type": "markdown",
   "id": "be59a449-dfff-4123-9b25-34808e599a2f",
   "metadata": {},
   "source": [
    "Q9. Create a variable named name and assign your full name to it as a string. How would you print the\n",
    "value of this variable?"
   ]
  },
  {
   "cell_type": "code",
   "execution_count": 17,
   "id": "e2394b36-af30-4202-aaf1-f9a11188bb44",
   "metadata": {},
   "outputs": [
    {
     "name": "stdin",
     "output_type": "stream",
     "text": [
      "Enter your name   :   saurabh mishra\n"
     ]
    },
    {
     "name": "stdout",
     "output_type": "stream",
     "text": [
      "Your name is  saurabh mishra\n"
     ]
    }
   ],
   "source": [
    "name = input(\"Enter your name   :  \")\n",
    "print(\"Your name is \", name)"
   ]
  },
  {
   "cell_type": "markdown",
   "id": "63cfd81c-bf36-4fff-a219-45a1010235c8",
   "metadata": {},
   "source": [
    "Q10. Given the string \"Hello, World!\", extract the substring \"World\"."
   ]
  },
  {
   "cell_type": "code",
   "execution_count": 18,
   "id": "0eeb98c4-9d0d-42e1-b987-40b0512d1168",
   "metadata": {},
   "outputs": [
    {
     "name": "stdout",
     "output_type": "stream",
     "text": [
      "World\n"
     ]
    }
   ],
   "source": [
    "a = 'Hello, World!'\n",
    "print(a[7:12])"
   ]
  },
  {
   "cell_type": "markdown",
   "id": "b03a2e76-8bcf-4d70-bba2-ece836d45d72",
   "metadata": {},
   "source": [
    "Q11. Create a variable named \"is_student\" and assign it a boolean value indicating whether you are\n",
    "currently a student or not."
   ]
  },
  {
   "cell_type": "code",
   "execution_count": null,
   "id": "a06dcd5a-c7fa-4e7f-9f04-df1ebc941571",
   "metadata": {},
   "outputs": [],
   "source": [
    "is_student = True # \n",
    "if is_student == 1:\n",
    "    print('You are Student ')\n",
    "else is_student == 0:\n",
    "    print()"
   ]
  }
 ],
 "metadata": {
  "kernelspec": {
   "display_name": "Python 3 (ipykernel)",
   "language": "python",
   "name": "python3"
  },
  "language_info": {
   "codemirror_mode": {
    "name": "ipython",
    "version": 3
   },
   "file_extension": ".py",
   "mimetype": "text/x-python",
   "name": "python",
   "nbconvert_exporter": "python",
   "pygments_lexer": "ipython3",
   "version": "3.10.8"
  }
 },
 "nbformat": 4,
 "nbformat_minor": 5
}
